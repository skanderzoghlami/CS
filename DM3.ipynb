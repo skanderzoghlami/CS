{
 "cells": [
  {
   "cell_type": "code",
   "execution_count": 2,
   "metadata": {
    "id": "-taVagh-Emuf"
   },
   "outputs": [],
   "source": [
    "# inmportation du dataset\n",
    "from sklearn import datasets\n",
    "irisData = datasets.load_iris()"
   ]
  },
  {
   "cell_type": "code",
   "execution_count": 2,
   "metadata": {
    "colab": {
     "base_uri": "https://localhost:8080/"
    },
    "id": "uSagow76IMN0",
    "outputId": "3b023843-33be-4800-ae96-3aeac626f51b"
   },
   "outputs": [
    {
     "data": {
      "text/plain": [
       "dict_keys(['data', 'target', 'target_names', 'DESCR', 'feature_names', 'filename'])"
      ]
     },
     "execution_count": 2,
     "metadata": {
      "tags": []
     },
     "output_type": "execute_result"
    }
   ],
   "source": [
    "irisData.keys()"
   ]
  },
  {
   "cell_type": "markdown",
   "metadata": {
    "id": "eoiE3qXpHXrl"
   },
   "source": [
    "### <font color=blue >Jeu de données :</font>\n",
    "- Pour mieux visualiser le jeu de données on peut utiliser les dataframes: une structure de données de la bibliothéque pandas permettant de faciliter la manipulation des données dans un dataset.\n"
   ]
  },
  {
   "cell_type": "code",
   "execution_count": 3,
   "metadata": {
    "id": "Lh7gCALuIBWy"
   },
   "outputs": [],
   "source": []
  },
  {
   "cell_type": "code",
   "execution_count": 3,
   "metadata": {
    "id": "-fanTI7JIESG"
   },
   "outputs": [],
   "source": [
    "import pandas as pd\n",
    "df_feature = pd.DataFrame(irisData.data, columns=irisData.feature_names)\n",
    "df_target = pd.DataFrame(irisData.target, columns=['label'])"
   ]
  },
  {
   "cell_type": "code",
   "execution_count": null,
   "metadata": {
    "colab": {
     "base_uri": "https://localhost:8080/",
     "height": 198
    },
    "id": "W3brD_Q8IySb",
    "outputId": "d6b44758-d413-42b2-a4e3-bdf79e2f4abc"
   },
   "outputs": [
    {
     "data": {
      "text/html": [
       "<div>\n",
       "<style scoped>\n",
       "    .dataframe tbody tr th:only-of-type {\n",
       "        vertical-align: middle;\n",
       "    }\n",
       "\n",
       "    .dataframe tbody tr th {\n",
       "        vertical-align: top;\n",
       "    }\n",
       "\n",
       "    .dataframe thead th {\n",
       "        text-align: right;\n",
       "    }\n",
       "</style>\n",
       "<table border=\"1\" class=\"dataframe\">\n",
       "  <thead>\n",
       "    <tr style=\"text-align: right;\">\n",
       "      <th></th>\n",
       "      <th>sepal length (cm)</th>\n",
       "      <th>sepal width (cm)</th>\n",
       "      <th>petal length (cm)</th>\n",
       "      <th>petal width (cm)</th>\n",
       "    </tr>\n",
       "  </thead>\n",
       "  <tbody>\n",
       "    <tr>\n",
       "      <th>0</th>\n",
       "      <td>5.1</td>\n",
       "      <td>3.5</td>\n",
       "      <td>1.4</td>\n",
       "      <td>0.2</td>\n",
       "    </tr>\n",
       "    <tr>\n",
       "      <th>1</th>\n",
       "      <td>4.9</td>\n",
       "      <td>3.0</td>\n",
       "      <td>1.4</td>\n",
       "      <td>0.2</td>\n",
       "    </tr>\n",
       "    <tr>\n",
       "      <th>2</th>\n",
       "      <td>4.7</td>\n",
       "      <td>3.2</td>\n",
       "      <td>1.3</td>\n",
       "      <td>0.2</td>\n",
       "    </tr>\n",
       "    <tr>\n",
       "      <th>3</th>\n",
       "      <td>4.6</td>\n",
       "      <td>3.1</td>\n",
       "      <td>1.5</td>\n",
       "      <td>0.2</td>\n",
       "    </tr>\n",
       "    <tr>\n",
       "      <th>4</th>\n",
       "      <td>5.0</td>\n",
       "      <td>3.6</td>\n",
       "      <td>1.4</td>\n",
       "      <td>0.2</td>\n",
       "    </tr>\n",
       "  </tbody>\n",
       "</table>\n",
       "</div>"
      ],
      "text/plain": [
       "   sepal length (cm)  sepal width (cm)  petal length (cm)  petal width (cm)\n",
       "0                5.1               3.5                1.4               0.2\n",
       "1                4.9               3.0                1.4               0.2\n",
       "2                4.7               3.2                1.3               0.2\n",
       "3                4.6               3.1                1.5               0.2\n",
       "4                5.0               3.6                1.4               0.2"
      ]
     },
     "execution_count": 5,
     "metadata": {
      "tags": []
     },
     "output_type": "execute_result"
    }
   ],
   "source": [
    "# ON affiche les 5 premiéres lignes pour voir la répartition des données dans les tableaux\n",
    "df_feature.head()"
   ]
  },
  {
   "cell_type": "code",
   "execution_count": null,
   "metadata": {
    "colab": {
     "base_uri": "https://localhost:8080/",
     "height": 198
    },
    "id": "QDkD5jN7I1-Z",
    "outputId": "d14f297a-4359-404b-9595-ddc6d9b90cd1"
   },
   "outputs": [
    {
     "data": {
      "text/html": [
       "<div>\n",
       "<style scoped>\n",
       "    .dataframe tbody tr th:only-of-type {\n",
       "        vertical-align: middle;\n",
       "    }\n",
       "\n",
       "    .dataframe tbody tr th {\n",
       "        vertical-align: top;\n",
       "    }\n",
       "\n",
       "    .dataframe thead th {\n",
       "        text-align: right;\n",
       "    }\n",
       "</style>\n",
       "<table border=\"1\" class=\"dataframe\">\n",
       "  <thead>\n",
       "    <tr style=\"text-align: right;\">\n",
       "      <th></th>\n",
       "      <th>label</th>\n",
       "    </tr>\n",
       "  </thead>\n",
       "  <tbody>\n",
       "    <tr>\n",
       "      <th>0</th>\n",
       "      <td>0</td>\n",
       "    </tr>\n",
       "    <tr>\n",
       "      <th>1</th>\n",
       "      <td>0</td>\n",
       "    </tr>\n",
       "    <tr>\n",
       "      <th>2</th>\n",
       "      <td>0</td>\n",
       "    </tr>\n",
       "    <tr>\n",
       "      <th>3</th>\n",
       "      <td>0</td>\n",
       "    </tr>\n",
       "    <tr>\n",
       "      <th>4</th>\n",
       "      <td>0</td>\n",
       "    </tr>\n",
       "  </tbody>\n",
       "</table>\n",
       "</div>"
      ],
      "text/plain": [
       "   label\n",
       "0      0\n",
       "1      0\n",
       "2      0\n",
       "3      0\n",
       "4      0"
      ]
     },
     "execution_count": 6,
     "metadata": {
      "tags": []
     },
     "output_type": "execute_result"
    }
   ],
   "source": [
    "df_target.head()"
   ]
  },
  {
   "cell_type": "code",
   "execution_count": 7,
   "metadata": {
    "colab": {
     "base_uri": "https://localhost:8080/"
    },
    "id": "pyjEwfSoI7ji",
    "outputId": "77d4d491-2711-4939-c9da-d69492b2987e"
   },
   "outputs": [
    {
     "data": {
      "text/plain": [
       "['setosa', 'versicolor', 'virginica']"
      ]
     },
     "execution_count": 7,
     "metadata": {
      "tags": []
     },
     "output_type": "execute_result"
    }
   ],
   "source": [
    "# Nombre des classes \n",
    "labels = list(irisData.target_names)\n",
    "labels"
   ]
  },
  {
   "cell_type": "markdown",
   "metadata": {
    "id": "C19aeOD7JeK7"
   },
   "source": [
    "# Nombre de Données par classes\n"
   ]
  },
  {
   "cell_type": "code",
   "execution_count": 6,
   "metadata": {
    "colab": {
     "base_uri": "https://localhost:8080/"
    },
    "id": "vU2XoCHjJdVl",
    "outputId": "7a2f08e4-7c47-4f69-aa0b-386ba49bcc4e"
   },
   "outputs": [
    {
     "data": {
      "text/plain": [
       "2    50\n",
       "1    50\n",
       "0    50\n",
       "Name: label, dtype: int64"
      ]
     },
     "execution_count": 6,
     "metadata": {
      "tags": []
     },
     "output_type": "execute_result"
    }
   ],
   "source": [
    "# NOmbre des données pour chaque classe\n",
    "df_target['label'].value_counts()"
   ]
  },
  {
   "cell_type": "markdown",
   "metadata": {
    "id": "B2QmYOp3J-oB"
   },
   "source": [
    "# Attribut 32"
   ]
  },
  {
   "cell_type": "code",
   "execution_count": 5,
   "metadata": {
    "colab": {
     "base_uri": "https://localhost:8080/"
    },
    "id": "AqpvEAp1K5vb",
    "outputId": "d5fb1fe5-c14f-4b19-98c9-38cf93b594f6"
   },
   "outputs": [
    {
     "data": {
      "text/plain": [
       "sepal length (cm)    5.2\n",
       "sepal width (cm)     4.1\n",
       "petal length (cm)    1.5\n",
       "petal width (cm)     0.1\n",
       "Name: 32, dtype: float64"
      ]
     },
     "execution_count": 5,
     "metadata": {
      "tags": []
     },
     "output_type": "execute_result"
    }
   ],
   "source": [
    "# Attribut de la 32'éme élement\n",
    "df_feature.iloc[32,:]"
   ]
  },
  {
   "cell_type": "markdown",
   "metadata": {
    "id": "W-Hk5fq4MEYp"
   },
   "source": [
    "# Commenting Function"
   ]
  },
  {
   "cell_type": "code",
   "execution_count": 10,
   "metadata": {
    "id": "_qgNFf6yEr-i"
   },
   "outputs": [],
   "source": [
    "import matplotlib # import library\n",
    "from itertools import cycle # définir les couleurs de la présentation\n",
    "import seaborn as sns # pour améliorer la visualisation\n",
    "import numpy as np\n",
    "import pylab as pl\n",
    "def plot_2D(data, target, target_names, x1, x2, with_line = False, a = None ,b = None): \n",
    "    \n",
    "  # On modifie la fonction pour prendre en considération l'attrivut X1 et X2\n",
    "  colors = cycle('rgbcmykw') # cycle de couleurs\n",
    "  target_ids = range(len(target_names)) # les identifiants de chaque target\n",
    "  pl.figure()\n",
    "  for i, c, label in zip(target_ids, colors, target_names):\n",
    "    pl.scatter(data[target == i, x1], data[target == i, x2], c=c, label=label)\n",
    "    pl.xlabel(df_feature.columns[x1])\n",
    "    pl.ylabel(df_feature.columns[x2])\n",
    "    pl.title(df_feature.columns[x1] + ' VS ' + df_feature.columns[x2])\n",
    "  if with_line:\n",
    "    pl.plot([0.0,7.0], a * np.array([0.0,7.0]) + b)\n",
    "  pl.legend()\n",
    "  pl.show()"
   ]
  },
  {
   "cell_type": "code",
   "execution_count": 11,
   "metadata": {
    "colab": {
     "base_uri": "https://localhost:8080/",
     "height": 295
    },
    "id": "9X9aFrNkH93Y",
    "outputId": "d62d4b6a-aee5-4f2e-b04d-583151dec990"
   },
   "outputs": [
    {
     "data": {
      "image/png": "[encoded data removed]",
      "text/plain": [
       "<Figure size 432x288 with 1 Axes>"
      ]
     },
     "metadata": {
      "needs_background": "light",
      "tags": []
     },
     "output_type": "display_data"
    }
   ],
   "source": [
    "plot_2D(irisData.data,irisData.target,labels, 0, 1)"
   ]
  },
  {
   "cell_type": "code",
   "execution_count": 12,
   "metadata": {
    "colab": {
     "base_uri": "https://localhost:8080/",
     "height": 295
    },
    "id": "PlNJ3AQAN9lb",
    "outputId": "718f8298-c18e-4984-cb0f-5d98bafa2de9"
   },
   "outputs": [
    {
     "data": {
      "image/png": "[encoded data removed]",
      "text/plain": [
       "<Figure size 432x288 with 1 Axes>"
      ]
     },
     "metadata": {
      "needs_background": "light",
      "tags": []
     },
     "output_type": "display_data"
    }
   ],
   "source": [
    "plot_2D(irisData.data,irisData.target,labels, 0, 2)"
   ]
  },
  {
   "cell_type": "code",
   "execution_count": 13,
   "metadata": {
    "colab": {
     "base_uri": "https://localhost:8080/",
     "height": 295
    },
    "id": "Dx8dKKu8N9xM",
    "outputId": "b03eded6-3021-40a7-c85b-449ac077ca26"
   },
   "outputs": [
    {
     "data": {
      "image/png": "[encoded data removed]",
      "text/plain": [
       "<Figure size 432x288 with 1 Axes>"
      ]
     },
     "metadata": {
      "needs_background": "light",
      "tags": []
     },
     "output_type": "display_data"
    }
   ],
   "source": [
    "plot_2D(irisData.data,irisData.target,labels, 0, 3)"
   ]
  },
  {
   "cell_type": "code",
   "execution_count": 14,
   "metadata": {
    "colab": {
     "base_uri": "https://localhost:8080/",
     "height": 295
    },
    "id": "gLIb3LU3OBUX",
    "outputId": "35570184-1215-41a8-d7ea-9426c83dfa86"
   },
   "outputs": [
    {
     "data": {
      "image/png": "[encoded data removed]",
      "text/plain": [
       "<Figure size 432x288 with 1 Axes>"
      ]
     },
     "metadata": {
      "needs_background": "light",
      "tags": []
     },
     "output_type": "display_data"
    }
   ],
   "source": [
    "plot_2D(irisData.data,irisData.target,labels, 1, 2)"
   ]
  },
  {
   "cell_type": "code",
   "execution_count": 15,
   "metadata": {
    "colab": {
     "base_uri": "https://localhost:8080/",
     "height": 295
    },
    "id": "EfAd92AhOEG_",
    "outputId": "5b06675a-1364-4d35-abdb-c98eb054bd11"
   },
   "outputs": [
    {
     "data": {
      "image/png": "[encoded data removed]",
      "text/plain": [
       "<Figure size 432x288 with 1 Axes>"
      ]
     },
     "metadata": {
      "needs_background": "light",
      "tags": []
     },
     "output_type": "display_data"
    }
   ],
   "source": [
    "plot_2D(irisData.data,irisData.target,labels, 1, 3)"
   ]
  },
  {
   "cell_type": "code",
   "execution_count": null,
   "metadata": {
    "colab": {
     "base_uri": "https://localhost:8080/",
     "height": 295
    },
    "id": "eol5N5COOHcx",
    "outputId": "73dec61e-1551-4061-b9a0-4778612557b7"
   },
   "outputs": [
    {
     "data": {
      "image/png": "[encoded data removed]",
      "text/plain": [
       "<Figure size 432x288 with 1 Axes>"
      ]
     },
     "metadata": {
      "needs_background": "light",
      "tags": []
     },
     "output_type": "display_data"
    }
   ],
   "source": [
    "plot_2D(irisData.data,irisData.target,labels, 2, 3)"
   ]
  },
  {
   "cell_type": "markdown",
   "metadata": {
    "id": "LjacPNwfNWxd"
   },
   "source": [
    "Oui il existe une droite permettant de séparer la classe de setosa et les deux autres classes.\n",
    "\n",
    "y =  -2X + 1.5\n"
   ]
  },
  {
   "cell_type": "code",
   "execution_count": 16,
   "metadata": {
    "colab": {
     "base_uri": "https://localhost:8080/",
     "height": 295
    },
    "id": "VMng8_oLPtoM",
    "outputId": "f4e2c580-5a5c-4a30-a51b-5dfbfc7effa4"
   },
   "outputs": [
    {
     "data": {
      "image/png": "[encoded data removed]",
      "text/plain": [
       "<Figure size 432x288 with 1 Axes>"
      ]
     },
     "metadata": {
      "needs_background": "light",
      "tags": []
     },
     "output_type": "display_data"
    }
   ],
   "source": [
    "plot_2D(irisData.data,irisData.target,labels, 2, 3, True, -(2/3.5), 2)"
   ]
  },
  {
   "cell_type": "markdown",
   "metadata": {
    "id": "PiceDifJSsG6"
   },
   "source": [
    "# naive_bayes"
   ]
  },
  {
   "cell_type": "code",
   "execution_count": 5,
   "metadata": {
    "colab": {
     "base_uri": "https://localhost:8080/"
    },
    "id": "wR2t-hApFCzC",
    "outputId": "5f3d2cc1-053a-4f09-b424-0abdfd961e82"
   },
   "outputs": [
    {
     "name": "stdout",
     "output_type": "stream",
     "text": [
      "[0]\n",
      "[2]\n",
      "[0 0 0 0 0 0 0 0 0 0 0 0 0 0 0 0 0 0 0 0 0 0 0 0 0 0 0 0 0 0 0 0 0 0 0 0 0\n",
      " 0 0 0 0 0 0 0 0 0 0 0 0 0 1 1 1 1 1 1 1 1 1 1 1 1 1 1 1 1 1 1 1 1 1 1 1 1\n",
      " 1 1 1 1 1 1 1 1 1 2 1 1 1 1 1 1 1 1 1 1 1 1 1 1 1 1 2 2 2 2 2 2 2 2 2 2 2\n",
      " 2 2 2 2 2 2 2 2 2 2 2 2 2 2 1 2 2 2 1 2 1 2 1 2 2 2 2 2 2 2 2 2 2 2 2 2 2\n",
      " 2 2]\n"
     ]
    }
   ],
   "source": [
    "from sklearn import naive_bayes\n",
    "nb = naive_bayes.MultinomialNB(fit_prior=True)# un algo d'apprentissage\n",
    "irisData = datasets.load_iris()\n",
    "nb.fit(irisData.data[:-1], irisData.target[:-1])# training the model on the iris dataset\n",
    "p31 = nb.predict([irisData.data[31]]) # Predicting the class of the row 32\n",
    "print(p31)\n",
    "plast = nb.predict([irisData.data[-1]]) # Predicting the class of the last row\n",
    "print(plast)\n",
    "p = nb.predict(irisData.data[:]) # Prediction all the data\n",
    "print(p)"
   ]
  },
  {
   "cell_type": "markdown",
   "metadata": {
    "id": "AAHj5Gg3S8HY"
   },
   "source": [
    "### <font color= blue> Interpretation</font>\n",
    "- Dans la cellule ci-dessus on fait l'apprentissage sur tout le dataset puis on test sur tout le dataset, ceci peut provoquer des problémes d'overfit et des interpretations non significatifs.\n"
   ]
  },
  {
   "cell_type": "code",
   "execution_count": 6,
   "metadata": {
    "colab": {
     "base_uri": "https://localhost:8080/"
    },
    "id": "TNvFibBZFimq",
    "outputId": "a546ef54-9638-4e31-86d3-20b064e89cde"
   },
   "outputs": [
    {
     "data": {
      "text/plain": [
       "array([1, 1, 1, 1, 1, 1, 1, 1, 1, 1, 1, 1, 1, 1, 1, 1, 1, 1, 1, 1, 1, 1,\n",
       "       1, 1, 1, 1, 1, 1, 1, 1, 1, 1, 1, 1, 1, 1, 1, 1, 1, 1, 1, 1, 1, 1,\n",
       "       1, 1, 1, 1, 1])"
      ]
     },
     "execution_count": 6,
     "metadata": {},
     "output_type": "execute_result"
    }
   ],
   "source": [
    "from sklearn import naive_bayes\n",
    "nb = naive_bayes.MultinomialNB(fit_prior=True)\n",
    "nb.fit(irisData.data[:99], irisData.target[:99])\n",
    "nb.predict(irisData.data[100:149])"
   ]
  },
  {
   "cell_type": "markdown",
   "metadata": {
    "id": "ZED-EXB3LtHt"
   },
   "source": [
    "### <font color= blue> Interpretation</font>\n",
    "- Dans ce casn le modéle apprit a partir des 100 premiéres lignes et prédit les 50 derniéres lignes, le modéle ne connait pas donc l'existance de la classe 2 et donc il donne une mauvaise prédiction <font color =red >sur tout l'ensemble du test.</font>\n",
    "- On doit diviser les données en training et test en prenant le même nombre de chaque classe"
   ]
  },
  {
   "cell_type": "markdown",
   "metadata": {
    "id": "2gWnjEDbVll4"
   },
   "source": [
    "# Evaluation des performances :"
   ]
  },
  {
   "cell_type": "code",
   "execution_count": 7,
   "metadata": {
    "id": "66IJWuwuVGih"
   },
   "outputs": [
    {
     "data": {
      "text/plain": [
       "MultinomialNB()"
      ]
     },
     "execution_count": 7,
     "metadata": {},
     "output_type": "execute_result"
    }
   ],
   "source": [
    "from sklearn.model_selection import train_test_split\n",
    "nb.fit(irisData.data,irisData.target)"
   ]
  },
  {
   "cell_type": "code",
   "execution_count": 10,
   "metadata": {
    "colab": {
     "base_uri": "https://localhost:8080/"
    },
    "id": "90KfFoWIGnor",
    "outputId": "fccb7511-33ea-4d60-cf6b-8f77941e9114"
   },
   "outputs": [
    {
     "name": "stdout",
     "output_type": "stream",
     "text": [
      "0.04666666666666667\n"
     ]
    }
   ],
   "source": [
    "ea = 0\n",
    "P = nb.predict(irisData.data)\n",
    "Y = irisData.target\n",
    "for i in range(len(irisData.data)):\n",
    "    if P[i] != Y[i]:\n",
    "        ea = ea+1\n",
    "print(ea/len(irisData.data))\n",
    "diff = P - Y"
   ]
  },
  {
   "cell_type": "markdown",
   "metadata": {
    "id": "ixuRtZ9uM5IU"
   },
   "source": [
    "### <font color= blue> Interpretation</font>\n",
    "- On fait la prédiction sur tout le dataset et on calcule l'erreur, l'erreur est de 0.333333, donc le modéle n'arrive pas a prédire 1/3 de l'ensemble de donnée.\n"
   ]
  },
  {
   "cell_type": "markdown",
   "metadata": {
    "id": "I72KZ9IBWJVt"
   },
   "source": [
    "# Comptage en une seule ligne"
   ]
  },
  {
   "cell_type": "code",
   "execution_count": 11,
   "metadata": {
    "id": "6odZKqImjYkR"
   },
   "outputs": [],
   "source": [
    "import numpy as np"
   ]
  },
  {
   "cell_type": "code",
   "execution_count": 15,
   "metadata": {
    "colab": {
     "base_uri": "https://localhost:8080/"
    },
    "id": "4d4M99boVF7l",
    "outputId": "1f02bdc7-0e59-44da-b57e-d943715d603f"
   },
   "outputs": [
    {
     "data": {
      "text/plain": [
       "0.04666666666666667"
      ]
     },
     "execution_count": 15,
     "metadata": {},
     "output_type": "execute_result"
    }
   ],
   "source": [
    "non_zero = np.sum(diff != 0)\n",
    "non_zero/150"
   ]
  },
  {
   "cell_type": "markdown",
   "metadata": {
    "id": "PX5Go_NQOUSD"
   },
   "source": [
    "### <font color= blue> Interpretation</font>\n",
    "- Les valeurs non nulles présentent les lignes ou les valeurs prédites sont differentes des valeurs réeles, donc une erreur.\n",
    "dans ce cas on a 50 valeurs non nulles , donc 1/3 de l'ensemble du test.\n",
    "- on peut voir le taux de bon prédiction en utilisant le score."
   ]
  },
  {
   "cell_type": "code",
   "execution_count": 13,
   "metadata": {
    "colab": {
     "base_uri": "https://localhost:8080/"
    },
    "id": "XDgOvWYkkGOy",
    "outputId": "93023311-1ca1-4abb-fc4e-88fcd37fc0ea"
   },
   "outputs": [
    {
     "data": {
      "text/plain": [
       "0.9533333333333334"
      ]
     },
     "execution_count": 13,
     "metadata": {},
     "output_type": "execute_result"
    }
   ],
   "source": [
    "nb.score(irisData.data, irisData.target)"
   ]
  },
  {
   "cell_type": "markdown",
   "metadata": {
    "id": "9DQb88fUmKwm"
   },
   "source": [
    "# Performance en géneralisation\n"
   ]
  },
  {
   "cell_type": "code",
   "execution_count": 14,
   "metadata": {
    "id": "gGLAXewCkto6"
   },
   "outputs": [],
   "source": [
    "X = irisData.data\n",
    "y= irisData.target"
   ]
  },
  {
   "cell_type": "code",
   "execution_count": 23,
   "metadata": {
    "id": "fASeQ3_2mRtB"
   },
   "outputs": [],
   "source": [
    "from random import shuffle #shuffle pour changer la répartition des données."
   ]
  },
  {
   "cell_type": "code",
   "execution_count": 31,
   "metadata": {
    "id": "ie41N3kYnUUE"
   },
   "outputs": [],
   "source": [
    "def shuffle_split_data(X, y, percentage = 80):\n",
    "    arr_rand = np.random.rand(X.shape[0]) \n",
    "    # arr_rand va contenir un tableau de meme nombre de ligne que X contenant des valeurs aléatoires\n",
    "    split = arr_rand < np.percentile(arr_rand, percentage)\n",
    "    # Split va contenir des valeurs booleans indiquant si la ligne appartient a l'ensemble du train ou non\n",
    "    X_train = X[split]\n",
    "    y_train = y[split]\n",
    "    X_test =  X[~split]\n",
    "    y_test = y[~split]\n",
    "    return X_train, y_train, X_test, y_test"
   ]
  },
  {
   "cell_type": "code",
   "execution_count": 32,
   "metadata": {
    "id": "YjFqpoofohjQ"
   },
   "outputs": [],
   "source": [
    "X_train , y_train , X_test, y_test = shuffle_split_data(X,y, 66)"
   ]
  },
  {
   "cell_type": "markdown",
   "metadata": {
    "id": "rkeCNQSfQpwB"
   },
   "source": [
    "###  <font color = blue >Interpretation</font>\n",
    "la fonction shuffle_split_data permet de diviser l'ensemble de données en un ensemble du train et un ensemble du test en prenant en considération la répartition passé dans la variable percentage."
   ]
  },
  {
   "cell_type": "code",
   "execution_count": 34,
   "metadata": {
    "id": "V4sWeLfto4FR"
   },
   "outputs": [],
   "source": [
    "def test(X,y , model , train_size = 66):\n",
    "  X_train , y_train , X_test, y_test = shuffle_split_data(X,y, train_size)\n",
    "  model.fit(X_train, y_train)\n",
    "  y_pred = model.predict(X_test)\n",
    "  score  = model.score(X_test, y_test)\n",
    "  return 1 - score\n"
   ]
  },
  {
   "cell_type": "code",
   "execution_count": 37,
   "metadata": {
    "colab": {
     "base_uri": "https://localhost:8080/"
    },
    "id": "DjGdNU1VqbCp",
    "outputId": "ec493ced-ce16-4fa1-ca8e-13f9fcc15ec4"
   },
   "outputs": [
    {
     "data": {
      "text/plain": [
       "0.0980392156862745"
      ]
     },
     "execution_count": 37,
     "metadata": {
      "tags": []
     },
     "output_type": "execute_result"
    }
   ],
   "source": [
    "naive_bayes_model = naive_bayes.MultinomialNB(fit_prior=True)\n",
    "erreur1 = test(X,y , naive_bayes_model)\n",
    "erreur1 "
   ]
  },
  {
   "cell_type": "markdown",
   "metadata": {
    "id": "x22lhYaPRqHC"
   },
   "source": [
    "### <font color = blue > Interpretation</font>\n",
    "L'erreur est trés inferieur a l'erreur trouvé précedement, cette valeur change en répetant l'éxecution du code."
   ]
  },
  {
   "cell_type": "code",
   "execution_count": 100,
   "metadata": {
    "colab": {
     "base_uri": "https://localhost:8080/"
    },
    "id": "vrwIxGvAqhEh",
    "outputId": "6a5b14a7-eee1-44ba-a057-79a29f6ff2b4"
   },
   "outputs": [
    {
     "data": {
      "text/plain": [
       "{'t10': 0.18039215686274512,\n",
       " 't1000': 0.20382352941176562,\n",
       " 't200': 0.2211764705882354,\n",
       " 't50': 0.1949019607843137,\n",
       " 't500': 0.19850980392156933}"
      ]
     },
     "execution_count": 100,
     "metadata": {
      "tags": []
     },
     "output_type": "execute_result"
    }
   ],
   "source": [
    "tableau = {}\n",
    "t1=[]\n",
    "for t in [10, 50, 200, 500, 1000]:\n",
    "  error = 0\n",
    "  for i in range(t):\n",
    "    naive_bayes_model = naive_bayes.MultinomialNB(fit_prior=True)\n",
    "    error += test(X,y , naive_bayes_model)\n",
    "  step = f\"t{t}\"\n",
    "  tableau[step] = error/t\n",
    "  t1.append(error/t)\n",
    "tableau"
   ]
  },
  {
   "cell_type": "markdown",
   "metadata": {
    "id": "p-3ow4qHTSBD"
   },
   "source": [
    "### <font color = blue > Interpretation</font>\n",
    "- en répetant le test 10 fois on obtient une erreur de 0.13, si on répete le test pour un nombre suppérieur a 50 l'erreur donne : 0.20"
   ]
  },
  {
   "cell_type": "code",
   "execution_count": 101,
   "metadata": {
    "colab": {
     "base_uri": "https://localhost:8080/"
    },
    "id": "jqZohTTqr5_x",
    "outputId": "5a8a1a1e-c528-40c5-d148-db1977bf149d"
   },
   "outputs": [
    {
     "data": {
      "text/plain": [
       "{'t10': 0.039999999999999994,\n",
       " 't1000': 0.12273333333333364,\n",
       " 't200': 0.14399999999999977,\n",
       " 't50': 0.15199999999999997,\n",
       " 't500': 0.1168000000000004}"
      ]
     },
     "execution_count": 101,
     "metadata": {
      "tags": []
     },
     "output_type": "execute_result"
    }
   ],
   "source": [
    "tableau1 = {}\n",
    "t2=[]\n",
    "for t in [10, 50, 200, 500, 1000]:\n",
    "  error = 0\n",
    "  for i in range(t):\n",
    "    naive_bayes_model = naive_bayes.MultinomialNB(fit_prior=True)\n",
    "    error += test(X,y , naive_bayes_model, 90)\n",
    "  step = f\"t{t}\"\n",
    "  tableau1[step] = error/t\n",
    "  t2.append(error/t)\n",
    "tableau1"
   ]
  },
  {
   "cell_type": "markdown",
   "metadata": {
    "id": "wCxMeDmOTmBN"
   },
   "source": [
    "### <font color = blue > Interpretation</font>\n",
    "- Si on change la répartition du set en 90 / 10 on obtient une erreur plus faible."
   ]
  },
  {
   "cell_type": "code",
   "execution_count": 102,
   "metadata": {
    "id": "bSfYEi2qsmGQ"
   },
   "outputs": [],
   "source": [
    "from sklearn.model_selection import train_test_split\n"
   ]
  },
  {
   "cell_type": "code",
   "execution_count": 103,
   "metadata": {
    "id": "g85f0Bu_s6RA"
   },
   "outputs": [],
   "source": [
    "def test_v2(X,y , model , test_size = 0.2):\n",
    "  X_train, X_test , y_train, y_test = train_test_split(X,y, test_size=test_size)\n",
    "  model.fit(X_train, y_train)\n",
    "  y_pred = model.predict(X_test)\n",
    "  score  = model.score(X_test, y_test)\n",
    "  return 1 - score"
   ]
  },
  {
   "cell_type": "code",
   "execution_count": 104,
   "metadata": {
    "colab": {
     "base_uri": "https://localhost:8080/"
    },
    "id": "1Hn6W0f1tdhp",
    "outputId": "9b174f60-872c-4aa5-d225-d7b8b557605f"
   },
   "outputs": [
    {
     "data": {
      "text/plain": [
       "{'error-->test_size(0.1)': 0.2666666666666667,\n",
       " 'error-->test_size(0.15)': 0.3913043478260869,\n",
       " 'error-->test_size(0.2)': 0.033333333333333326,\n",
       " 'error-->test_size(0.25)': 0.1578947368421053,\n",
       " 'error-->test_size(0.33)': 0.4}"
      ]
     },
     "execution_count": 104,
     "metadata": {
      "tags": []
     },
     "output_type": "execute_result"
    }
   ],
   "source": [
    "tableau2 = {}\n",
    "t3=[]\n",
    "error = 0\n",
    "for t in [0.1, 0.15, 0.2, 0.25, 0.33]:\n",
    "  error = 0\n",
    "  naive_bayes_model = naive_bayes.MultinomialNB(fit_prior=True)\n",
    "  error = test_v2(X,y , naive_bayes_model, t)\n",
    "  test_size = f\"error-->test_size({t})\"\n",
    "  tableau2[test_size] = error\n",
    "  t3.append(error)\n",
    "tableau2"
   ]
  },
  {
   "cell_type": "markdown",
   "metadata": {
    "id": "r6aUn5dXUPNF"
   },
   "source": [
    "### <font color = blue > Interpretation</font>\n",
    "- On remarque qe l'erreur réel sur le test de taille 1/3 est de 0.4."
   ]
  },
  {
   "cell_type": "code",
   "execution_count": 105,
   "metadata": {
    "id": "M61GPwdFt_AJ"
   },
   "outputs": [],
   "source": [
    "from sklearn.model_selection import cross_validate\n"
   ]
  },
  {
   "cell_type": "code",
   "execution_count": 106,
   "metadata": {
    "id": "RPlxyiPDu-Uu"
   },
   "outputs": [],
   "source": [
    "def test_v3(X,y , model , folds):\n",
    "  results = cross_validate(model, X, y, cv=folds)\n",
    "\n",
    "  return 1 -  results['test_score'].mean()"
   ]
  },
  {
   "cell_type": "code",
   "execution_count": 107,
   "metadata": {
    "colab": {
     "base_uri": "https://localhost:8080/"
    },
    "id": "mH8GFG-wuv8f",
    "outputId": "606de8c4-6b09-4386-bc7a-a07a1a949fbc"
   },
   "outputs": [
    {
     "data": {
      "text/plain": [
       "{'error-->nb_folds(10)': 0.046666666666666634,\n",
       " 'error-->nb_folds(2)': 0.046666666666666634,\n",
       " 'error-->nb_folds(3)': 0.053333333333333344,\n",
       " 'error-->nb_folds(5)': 0.046666666666666634,\n",
       " 'error-->nb_folds(8)': 0.05263157894736836}"
      ]
     },
     "execution_count": 107,
     "metadata": {
      "tags": []
     },
     "output_type": "execute_result"
    }
   ],
   "source": [
    "tableau3 = {}\n",
    "t4=[]\n",
    "for folds in [2,3,5,8,10]:\n",
    "  naive_bayes_model = naive_bayes.MultinomialNB(fit_prior=True)\n",
    "  error = test_v3(X,y,naive_bayes_model,folds)\n",
    "  nb_folds = f\"error-->nb_folds({folds})\"\n",
    "  tableau3[nb_folds] = error\n",
    "  t4.append(error)\n",
    "tableau3"
   ]
  },
  {
   "cell_type": "markdown",
   "metadata": {
    "id": "eKAJxiorUsGf"
   },
   "source": [
    "### <font color = blue > Interpretation</font>\n",
    "- On remarque qe l'erreur réel sur le test set en utilisant crossvalidation est de 0.04."
   ]
  },
  {
   "cell_type": "code",
   "execution_count": 108,
   "metadata": {
    "colab": {
     "base_uri": "https://localhost:8080/",
     "height": 708
    },
    "id": "60UnXc2OveGA",
    "outputId": "81465ab1-07d7-4064-b1ae-ce221c812bfb"
   },
   "outputs": [
    {
     "data": {
      "text/html": [
       "<div>\n",
       "<style scoped>\n",
       "    .dataframe tbody tr th:only-of-type {\n",
       "        vertical-align: middle;\n",
       "    }\n",
       "\n",
       "    .dataframe tbody tr th {\n",
       "        vertical-align: top;\n",
       "    }\n",
       "\n",
       "    .dataframe thead th {\n",
       "        text-align: right;\n",
       "    }\n",
       "</style>\n",
       "<table border=\"1\" class=\"dataframe\">\n",
       "  <thead>\n",
       "    <tr style=\"text-align: right;\">\n",
       "      <th></th>\n",
       "      <th>Results</th>\n",
       "    </tr>\n",
       "  </thead>\n",
       "  <tbody>\n",
       "    <tr>\n",
       "      <th>0</th>\n",
       "      <td>erreur1</td>\n",
       "    </tr>\n",
       "    <tr>\n",
       "      <th>1</th>\n",
       "      <td>executing test 10 times</td>\n",
       "    </tr>\n",
       "    <tr>\n",
       "      <th>2</th>\n",
       "      <td>executing test 50 times</td>\n",
       "    </tr>\n",
       "    <tr>\n",
       "      <th>3</th>\n",
       "      <td>executing test 200 times</td>\n",
       "    </tr>\n",
       "    <tr>\n",
       "      <th>4</th>\n",
       "      <td>executing test 500 times</td>\n",
       "    </tr>\n",
       "    <tr>\n",
       "      <th>5</th>\n",
       "      <td>executing test 1000 times</td>\n",
       "    </tr>\n",
       "    <tr>\n",
       "      <th>6</th>\n",
       "      <td>executing test2 10 times</td>\n",
       "    </tr>\n",
       "    <tr>\n",
       "      <th>7</th>\n",
       "      <td>t2 50</td>\n",
       "    </tr>\n",
       "    <tr>\n",
       "      <th>8</th>\n",
       "      <td>t2 200</td>\n",
       "    </tr>\n",
       "    <tr>\n",
       "      <th>9</th>\n",
       "      <td>t2 500</td>\n",
       "    </tr>\n",
       "    <tr>\n",
       "      <th>10</th>\n",
       "      <td>t2 1000</td>\n",
       "    </tr>\n",
       "    <tr>\n",
       "      <th>11</th>\n",
       "      <td>split = 0.1</td>\n",
       "    </tr>\n",
       "    <tr>\n",
       "      <th>12</th>\n",
       "      <td>split = 0.15</td>\n",
       "    </tr>\n",
       "    <tr>\n",
       "      <th>13</th>\n",
       "      <td>split = 0.2</td>\n",
       "    </tr>\n",
       "    <tr>\n",
       "      <th>14</th>\n",
       "      <td>split = 0.25</td>\n",
       "    </tr>\n",
       "    <tr>\n",
       "      <th>15</th>\n",
       "      <td>split = 0.33</td>\n",
       "    </tr>\n",
       "    <tr>\n",
       "      <th>16</th>\n",
       "      <td>folds = 2</td>\n",
       "    </tr>\n",
       "    <tr>\n",
       "      <th>17</th>\n",
       "      <td>folds = 3</td>\n",
       "    </tr>\n",
       "    <tr>\n",
       "      <th>18</th>\n",
       "      <td>folds = 8</td>\n",
       "    </tr>\n",
       "    <tr>\n",
       "      <th>19</th>\n",
       "      <td>folds = 5</td>\n",
       "    </tr>\n",
       "    <tr>\n",
       "      <th>20</th>\n",
       "      <td>folds = 10</td>\n",
       "    </tr>\n",
       "  </tbody>\n",
       "</table>\n",
       "</div>"
      ],
      "text/plain": [
       "                      Results\n",
       "0                     erreur1\n",
       "1     executing test 10 times\n",
       "2     executing test 50 times\n",
       "3    executing test 200 times\n",
       "4    executing test 500 times\n",
       "5   executing test 1000 times\n",
       "6    executing test2 10 times\n",
       "7                       t2 50\n",
       "8                      t2 200\n",
       "9                      t2 500\n",
       "10                    t2 1000\n",
       "11                split = 0.1\n",
       "12               split = 0.15\n",
       "13                split = 0.2\n",
       "14               split = 0.25\n",
       "15               split = 0.33\n",
       "16                  folds = 2\n",
       "17                  folds = 3\n",
       "18                  folds = 8\n",
       "19                  folds = 5\n",
       "20                 folds = 10"
      ]
     },
     "execution_count": 108,
     "metadata": {
      "tags": []
     },
     "output_type": "execute_result"
    }
   ],
   "source": [
    "results = pd.DataFrame({'Results':['erreur1','executing test 10 times','executing test 50 times','executing test 200 times','executing test 500 times','executing test 1000 times','executing test2 10 times','t2 50','t2 200','t2 500'\n",
    "                                            ,'t2 1000',' split = 0.1', 'split = 0.15','split = 0.2', 'split = 0.25', 'split = 0.33','folds = 2','folds = 3','folds = 8','folds = 5','folds = 10']})\n",
    "results\n"
   ]
  },
  {
   "cell_type": "code",
   "execution_count": 109,
   "metadata": {
    "id": "CKxa1J83Ve8r"
   },
   "outputs": [],
   "source": [
    "first_model_results = []\n",
    "first_model_results = np.append(first_model_results,erreur1)\n",
    "first_model_results = np.append(first_model_results,t1)\n",
    "first_model_results = np.append(first_model_results,t2)\n",
    "first_model_results = np.append(first_model_results,t3)\n",
    "first_model_results = np.append(first_model_results,t4)\n",
    "first_model = pd.DataFrame({'sklearn Naive bayes':first_model_results})"
   ]
  },
  {
   "cell_type": "code",
   "execution_count": 110,
   "metadata": {
    "colab": {
     "base_uri": "https://localhost:8080/",
     "height": 708
    },
    "id": "pl5jOjMQXnv-",
    "outputId": "b7783fed-bd28-4d33-c2ae-c144af171e1b"
   },
   "outputs": [
    {
     "data": {
      "text/html": [
       "<div>\n",
       "<style scoped>\n",
       "    .dataframe tbody tr th:only-of-type {\n",
       "        vertical-align: middle;\n",
       "    }\n",
       "\n",
       "    .dataframe tbody tr th {\n",
       "        vertical-align: top;\n",
       "    }\n",
       "\n",
       "    .dataframe thead th {\n",
       "        text-align: right;\n",
       "    }\n",
       "</style>\n",
       "<table border=\"1\" class=\"dataframe\">\n",
       "  <thead>\n",
       "    <tr style=\"text-align: right;\">\n",
       "      <th></th>\n",
       "      <th>Results</th>\n",
       "      <th>sklearn Naive bayes</th>\n",
       "    </tr>\n",
       "  </thead>\n",
       "  <tbody>\n",
       "    <tr>\n",
       "      <th>0</th>\n",
       "      <td>erreur1</td>\n",
       "      <td>0.098039</td>\n",
       "    </tr>\n",
       "    <tr>\n",
       "      <th>1</th>\n",
       "      <td>executing test 10 times</td>\n",
       "      <td>0.180392</td>\n",
       "    </tr>\n",
       "    <tr>\n",
       "      <th>2</th>\n",
       "      <td>executing test 50 times</td>\n",
       "      <td>0.194902</td>\n",
       "    </tr>\n",
       "    <tr>\n",
       "      <th>3</th>\n",
       "      <td>executing test 200 times</td>\n",
       "      <td>0.221176</td>\n",
       "    </tr>\n",
       "    <tr>\n",
       "      <th>4</th>\n",
       "      <td>executing test 500 times</td>\n",
       "      <td>0.198510</td>\n",
       "    </tr>\n",
       "    <tr>\n",
       "      <th>5</th>\n",
       "      <td>executing test 1000 times</td>\n",
       "      <td>0.203824</td>\n",
       "    </tr>\n",
       "    <tr>\n",
       "      <th>6</th>\n",
       "      <td>executing test2 10 times</td>\n",
       "      <td>0.040000</td>\n",
       "    </tr>\n",
       "    <tr>\n",
       "      <th>7</th>\n",
       "      <td>t2 50</td>\n",
       "      <td>0.152000</td>\n",
       "    </tr>\n",
       "    <tr>\n",
       "      <th>8</th>\n",
       "      <td>t2 200</td>\n",
       "      <td>0.144000</td>\n",
       "    </tr>\n",
       "    <tr>\n",
       "      <th>9</th>\n",
       "      <td>t2 500</td>\n",
       "      <td>0.116800</td>\n",
       "    </tr>\n",
       "    <tr>\n",
       "      <th>10</th>\n",
       "      <td>t2 1000</td>\n",
       "      <td>0.122733</td>\n",
       "    </tr>\n",
       "    <tr>\n",
       "      <th>11</th>\n",
       "      <td>split = 0.1</td>\n",
       "      <td>0.266667</td>\n",
       "    </tr>\n",
       "    <tr>\n",
       "      <th>12</th>\n",
       "      <td>split = 0.15</td>\n",
       "      <td>0.391304</td>\n",
       "    </tr>\n",
       "    <tr>\n",
       "      <th>13</th>\n",
       "      <td>split = 0.2</td>\n",
       "      <td>0.033333</td>\n",
       "    </tr>\n",
       "    <tr>\n",
       "      <th>14</th>\n",
       "      <td>split = 0.25</td>\n",
       "      <td>0.157895</td>\n",
       "    </tr>\n",
       "    <tr>\n",
       "      <th>15</th>\n",
       "      <td>split = 0.33</td>\n",
       "      <td>0.400000</td>\n",
       "    </tr>\n",
       "    <tr>\n",
       "      <th>16</th>\n",
       "      <td>folds = 2</td>\n",
       "      <td>0.046667</td>\n",
       "    </tr>\n",
       "    <tr>\n",
       "      <th>17</th>\n",
       "      <td>folds = 3</td>\n",
       "      <td>0.053333</td>\n",
       "    </tr>\n",
       "    <tr>\n",
       "      <th>18</th>\n",
       "      <td>folds = 8</td>\n",
       "      <td>0.046667</td>\n",
       "    </tr>\n",
       "    <tr>\n",
       "      <th>19</th>\n",
       "      <td>folds = 5</td>\n",
       "      <td>0.052632</td>\n",
       "    </tr>\n",
       "    <tr>\n",
       "      <th>20</th>\n",
       "      <td>folds = 10</td>\n",
       "      <td>0.046667</td>\n",
       "    </tr>\n",
       "  </tbody>\n",
       "</table>\n",
       "</div>"
      ],
      "text/plain": [
       "                      Results  sklearn Naive bayes\n",
       "0                     erreur1             0.098039\n",
       "1     executing test 10 times             0.180392\n",
       "2     executing test 50 times             0.194902\n",
       "3    executing test 200 times             0.221176\n",
       "4    executing test 500 times             0.198510\n",
       "5   executing test 1000 times             0.203824\n",
       "6    executing test2 10 times             0.040000\n",
       "7                       t2 50             0.152000\n",
       "8                      t2 200             0.144000\n",
       "9                      t2 500             0.116800\n",
       "10                    t2 1000             0.122733\n",
       "11                split = 0.1             0.266667\n",
       "12               split = 0.15             0.391304\n",
       "13                split = 0.2             0.033333\n",
       "14               split = 0.25             0.157895\n",
       "15               split = 0.33             0.400000\n",
       "16                  folds = 2             0.046667\n",
       "17                  folds = 3             0.053333\n",
       "18                  folds = 8             0.046667\n",
       "19                  folds = 5             0.052632\n",
       "20                 folds = 10             0.046667"
      ]
     },
     "execution_count": 110,
     "metadata": {
      "tags": []
     },
     "output_type": "execute_result"
    }
   ],
   "source": [
    "results = results.join(first_model) \n",
    "results"
   ]
  },
  {
   "cell_type": "code",
   "execution_count": 111,
   "metadata": {
    "colab": {
     "base_uri": "https://localhost:8080/"
    },
    "id": "28A5w_yXYQMN",
    "outputId": "fd7bf8e1-4b24-4c12-decf-f574bd9a79c1"
   },
   "outputs": [
    {
     "data": {
      "text/plain": [
       "0.05882352941176472"
      ]
     },
     "execution_count": 111,
     "metadata": {
      "tags": []
     },
     "output_type": "execute_result"
    }
   ],
   "source": [
    "from sklearn import tree\n",
    "clf = tree.DecisionTreeClassifier()\n",
    "erreur2 = test(X,y , clf)\n",
    "erreur2"
   ]
  },
  {
   "cell_type": "code",
   "execution_count": 112,
   "metadata": {
    "id": "J7AS2vVfaxYS"
   },
   "outputs": [],
   "source": [
    "tableau = {}\n",
    "t1=[]\n",
    "for t in [10, 50, 200, 500, 1000]:\n",
    "  error = 0\n",
    "  for i in range(t):\n",
    "    clf = tree.DecisionTreeClassifier()\n",
    "    error += test(X,y , clf)\n",
    "  step = f\"t{t}\"\n",
    "  tableau[step] = error/t\n",
    "  t1.append(error/t)\n",
    "tableau1 = {}\n",
    "t2=[]\n",
    "for t in [10, 50, 200, 500, 1000]:\n",
    "  error = 0\n",
    "  for i in range(t):\n",
    "    clf = tree.DecisionTreeClassifier()\n",
    "    error += test(X,y , clf, 90)\n",
    "  step = f\"t{t}\"\n",
    "  tableau1[step] = error/t\n",
    "  t2.append(error/t)\n",
    "tableau2 = {}\n",
    "t3=[]\n",
    "error = 0\n",
    "for t in [0.1, 0.15, 0.2, 0.25, 0.33]:\n",
    "  error = 0\n",
    "  clf = tree.DecisionTreeClassifier()\n",
    "  error = test_v2(X,y , clf, t)\n",
    "  test_size = f\"error-->test_size({t})\"\n",
    "  tableau2[test_size] = error\n",
    "  t3.append(error)\n",
    "tableau3 = {}\n",
    "t4=[]\n",
    "for folds in [2,3,5,8,10]:\n",
    "  naive_bayes_model = naive_bayes.MultinomialNB(fit_prior=True)\n",
    "  error = test_v3(X,y,naive_bayes_model,folds)\n",
    "  nb_folds = f\"error-->nb_folds({folds})\"\n",
    "  tableau3[nb_folds] = error\n",
    "  t4.append(error)\n",
    "second_model_results = []\n",
    "second_model_results = np.append(second_model_results,erreur2)\n",
    "second_model_results = np.append(second_model_results,t1)\n",
    "second_model_results = np.append(second_model_results,t2)\n",
    "second_model_results = np.append(second_model_results,t3)\n",
    "second_model_results = np.append(second_model_results,t4)\n",
    "second_model = pd.DataFrame({'sklearn  Decision Trees':second_model_results})\n",
    "\n"
   ]
  },
  {
   "cell_type": "code",
   "execution_count": 113,
   "metadata": {
    "colab": {
     "base_uri": "https://localhost:8080/",
     "height": 708
    },
    "id": "5jPJ-q0fbsBl",
    "outputId": "79277683-89b0-4a5b-e1d7-43187f16df7d"
   },
   "outputs": [
    {
     "data": {
      "text/html": [
       "<div>\n",
       "<style scoped>\n",
       "    .dataframe tbody tr th:only-of-type {\n",
       "        vertical-align: middle;\n",
       "    }\n",
       "\n",
       "    .dataframe tbody tr th {\n",
       "        vertical-align: top;\n",
       "    }\n",
       "\n",
       "    .dataframe thead th {\n",
       "        text-align: right;\n",
       "    }\n",
       "</style>\n",
       "<table border=\"1\" class=\"dataframe\">\n",
       "  <thead>\n",
       "    <tr style=\"text-align: right;\">\n",
       "      <th></th>\n",
       "      <th>Results</th>\n",
       "      <th>sklearn Naive bayes</th>\n",
       "      <th>sklearn  Decision Trees</th>\n",
       "    </tr>\n",
       "  </thead>\n",
       "  <tbody>\n",
       "    <tr>\n",
       "      <th>0</th>\n",
       "      <td>erreur1</td>\n",
       "      <td>0.098039</td>\n",
       "      <td>0.058824</td>\n",
       "    </tr>\n",
       "    <tr>\n",
       "      <th>1</th>\n",
       "      <td>executing test 10 times</td>\n",
       "      <td>0.180392</td>\n",
       "      <td>0.049020</td>\n",
       "    </tr>\n",
       "    <tr>\n",
       "      <th>2</th>\n",
       "      <td>executing test 50 times</td>\n",
       "      <td>0.194902</td>\n",
       "      <td>0.050588</td>\n",
       "    </tr>\n",
       "    <tr>\n",
       "      <th>3</th>\n",
       "      <td>executing test 200 times</td>\n",
       "      <td>0.221176</td>\n",
       "      <td>0.057255</td>\n",
       "    </tr>\n",
       "    <tr>\n",
       "      <th>4</th>\n",
       "      <td>executing test 500 times</td>\n",
       "      <td>0.198510</td>\n",
       "      <td>0.053333</td>\n",
       "    </tr>\n",
       "    <tr>\n",
       "      <th>5</th>\n",
       "      <td>executing test 1000 times</td>\n",
       "      <td>0.203824</td>\n",
       "      <td>0.054020</td>\n",
       "    </tr>\n",
       "    <tr>\n",
       "      <th>6</th>\n",
       "      <td>executing test2 10 times</td>\n",
       "      <td>0.040000</td>\n",
       "      <td>0.080000</td>\n",
       "    </tr>\n",
       "    <tr>\n",
       "      <th>7</th>\n",
       "      <td>t2 50</td>\n",
       "      <td>0.152000</td>\n",
       "      <td>0.053333</td>\n",
       "    </tr>\n",
       "    <tr>\n",
       "      <th>8</th>\n",
       "      <td>t2 200</td>\n",
       "      <td>0.144000</td>\n",
       "      <td>0.051333</td>\n",
       "    </tr>\n",
       "    <tr>\n",
       "      <th>9</th>\n",
       "      <td>t2 500</td>\n",
       "      <td>0.116800</td>\n",
       "      <td>0.054133</td>\n",
       "    </tr>\n",
       "    <tr>\n",
       "      <th>10</th>\n",
       "      <td>t2 1000</td>\n",
       "      <td>0.122733</td>\n",
       "      <td>0.052800</td>\n",
       "    </tr>\n",
       "    <tr>\n",
       "      <th>11</th>\n",
       "      <td>split = 0.1</td>\n",
       "      <td>0.266667</td>\n",
       "      <td>0.133333</td>\n",
       "    </tr>\n",
       "    <tr>\n",
       "      <th>12</th>\n",
       "      <td>split = 0.15</td>\n",
       "      <td>0.391304</td>\n",
       "      <td>0.000000</td>\n",
       "    </tr>\n",
       "    <tr>\n",
       "      <th>13</th>\n",
       "      <td>split = 0.2</td>\n",
       "      <td>0.033333</td>\n",
       "      <td>0.033333</td>\n",
       "    </tr>\n",
       "    <tr>\n",
       "      <th>14</th>\n",
       "      <td>split = 0.25</td>\n",
       "      <td>0.157895</td>\n",
       "      <td>0.000000</td>\n",
       "    </tr>\n",
       "    <tr>\n",
       "      <th>15</th>\n",
       "      <td>split = 0.33</td>\n",
       "      <td>0.400000</td>\n",
       "      <td>0.060000</td>\n",
       "    </tr>\n",
       "    <tr>\n",
       "      <th>16</th>\n",
       "      <td>folds = 2</td>\n",
       "      <td>0.046667</td>\n",
       "      <td>0.046667</td>\n",
       "    </tr>\n",
       "    <tr>\n",
       "      <th>17</th>\n",
       "      <td>folds = 3</td>\n",
       "      <td>0.053333</td>\n",
       "      <td>0.053333</td>\n",
       "    </tr>\n",
       "    <tr>\n",
       "      <th>18</th>\n",
       "      <td>folds = 8</td>\n",
       "      <td>0.046667</td>\n",
       "      <td>0.046667</td>\n",
       "    </tr>\n",
       "    <tr>\n",
       "      <th>19</th>\n",
       "      <td>folds = 5</td>\n",
       "      <td>0.052632</td>\n",
       "      <td>0.052632</td>\n",
       "    </tr>\n",
       "    <tr>\n",
       "      <th>20</th>\n",
       "      <td>folds = 10</td>\n",
       "      <td>0.046667</td>\n",
       "      <td>0.046667</td>\n",
       "    </tr>\n",
       "  </tbody>\n",
       "</table>\n",
       "</div>"
      ],
      "text/plain": [
       "                      Results  sklearn Naive bayes  sklearn  Decision Trees\n",
       "0                     erreur1             0.098039                 0.058824\n",
       "1     executing test 10 times             0.180392                 0.049020\n",
       "2     executing test 50 times             0.194902                 0.050588\n",
       "3    executing test 200 times             0.221176                 0.057255\n",
       "4    executing test 500 times             0.198510                 0.053333\n",
       "5   executing test 1000 times             0.203824                 0.054020\n",
       "6    executing test2 10 times             0.040000                 0.080000\n",
       "7                       t2 50             0.152000                 0.053333\n",
       "8                      t2 200             0.144000                 0.051333\n",
       "9                      t2 500             0.116800                 0.054133\n",
       "10                    t2 1000             0.122733                 0.052800\n",
       "11                split = 0.1             0.266667                 0.133333\n",
       "12               split = 0.15             0.391304                 0.000000\n",
       "13                split = 0.2             0.033333                 0.033333\n",
       "14               split = 0.25             0.157895                 0.000000\n",
       "15               split = 0.33             0.400000                 0.060000\n",
       "16                  folds = 2             0.046667                 0.046667\n",
       "17                  folds = 3             0.053333                 0.053333\n",
       "18                  folds = 8             0.046667                 0.046667\n",
       "19                  folds = 5             0.052632                 0.052632\n",
       "20                 folds = 10             0.046667                 0.046667"
      ]
     },
     "execution_count": 113,
     "metadata": {
      "tags": []
     },
     "output_type": "execute_result"
    }
   ],
   "source": [
    "results = results.join(second_model) \n",
    "results"
   ]
  },
  {
   "cell_type": "markdown",
   "metadata": {
    "id": "lnsvEDcscRdi"
   },
   "source": [
    "### <font color = blue > Interpretation</font>\n",
    "- On remarque que le modéle des arbres de décision donne des meilleur résultats pour tous les types de test, donc le modéle des arbres de décisions est le plus adéquate pour la classification des fleurs d'Iris."
   ]
  },
  {
   "cell_type": "code",
   "execution_count": null,
   "metadata": {
    "id": "uCYxy9xrcnT-"
   },
   "outputs": [],
   "source": []
  }
 ],
 "metadata": {
  "colab": {
   "collapsed_sections": [],
   "name": "DM3.ipynb",
   "provenance": []
  },
  "kernelspec": {
   "display_name": "Python 3",
   "language": "python",
   "name": "python3"
  },
  "language_info": {
   "codemirror_mode": {
    "name": "ipython",
    "version": 3
   },
   "file_extension": ".py",
   "mimetype": "text/x-python",
   "name": "python",
   "nbconvert_exporter": "python",
   "pygments_lexer": "ipython3",
   "version": "3.8.2"
  }
 },
 "nbformat": 4,
 "nbformat_minor": 1
}
